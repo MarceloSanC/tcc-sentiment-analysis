{
 "cells": [
  {
   "cell_type": "code",
   "execution_count": 1,
   "id": "99cf8d74",
   "metadata": {},
   "outputs": [
    {
     "name": "stderr",
     "output_type": "stream",
     "text": [
      "c:\\Users\\Marcelo\\Documents\\Code\\tcc-sentiment-analysis\\.venv\\Lib\\site-packages\\tqdm\\auto.py:21: TqdmWarning: IProgress not found. Please update jupyter and ipywidgets. See https://ipywidgets.readthedocs.io/en/stable/user_install.html\n",
      "  from .autonotebook import tqdm as notebook_tqdm\n"
     ]
    }
   ],
   "source": [
    "import os\n",
    "import pandas as pd\n",
    "from tqdm import tqdm\n",
    "from transformers import AutoTokenizer, AutoModelForSequenceClassification, pipeline"
   ]
  },
  {
   "cell_type": "code",
   "execution_count": 2,
   "id": "14b83afd",
   "metadata": {},
   "outputs": [],
   "source": [
    "# 📁 Caminhos\n",
    "caminho_raw = r\"C:\\Users\\Marcelo\\Documents\\Code\\tcc-sentiment-analysis\\data\\raw\"\n",
    "caminho_saida = r\"C:\\Users\\Marcelo\\Documents\\Code\\tcc-sentiment-analysis\\data\\inferred\"\n",
    "\n",
    "# 🔧 Garante que o diretório de saída exista\n",
    "os.makedirs(caminho_saida, exist_ok=True)"
   ]
  },
  {
   "cell_type": "code",
   "execution_count": 3,
   "id": "85d8972f",
   "metadata": {},
   "outputs": [
    {
     "name": "stderr",
     "output_type": "stream",
     "text": [
      "Device set to use cpu\n"
     ]
    }
   ],
   "source": [
    "# Carregar modelo FinBERT\n",
    "model_name = \"yiyanghkust/finbert-tone\"\n",
    "tokenizer = AutoTokenizer.from_pretrained(model_name)\n",
    "model = AutoModelForSequenceClassification.from_pretrained(model_name)\n",
    "sentiment_pipeline = pipeline(\"sentiment-analysis\", model=model, tokenizer=tokenizer)"
   ]
  },
  {
   "cell_type": "code",
   "execution_count": 4,
   "id": "0e0065b4",
   "metadata": {},
   "outputs": [
    {
     "data": {
      "text/plain": [
       "['noticias_AAPL.csv',\n",
       " 'noticias_GOOGL.csv',\n",
       " 'noticias_MSFT.csv',\n",
       " 'noticias_TSLA.csv']"
      ]
     },
     "execution_count": 4,
     "metadata": {},
     "output_type": "execute_result"
    }
   ],
   "source": [
    "# Listar arquivos CSV\n",
    "arquivos = [f for f in os.listdir(caminho_raw) if f.endswith(\".csv\")]\n",
    "arquivos"
   ]
  },
  {
   "cell_type": "code",
   "execution_count": 5,
   "id": "cdbe2a49",
   "metadata": {},
   "outputs": [
    {
     "name": "stdout",
     "output_type": "stream",
     "text": [
      "Processando: C:\\Users\\Marcelo\\Documents\\Code\\tcc-sentiment-analysis\\data\\raw\\noticias_AAPL.csv\n"
     ]
    },
    {
     "name": "stderr",
     "output_type": "stream",
     "text": [
      "Classificando: 100%|██████████| 228/228 [00:09<00:00, 23.44it/s]\n"
     ]
    },
    {
     "name": "stdout",
     "output_type": "stream",
     "text": [
      "Salvo em: C:\\Users\\Marcelo\\Documents\\Code\\tcc-sentiment-analysis\\data\\inferred\\noticias_AAPL.csv\n",
      "Processando: C:\\Users\\Marcelo\\Documents\\Code\\tcc-sentiment-analysis\\data\\raw\\noticias_GOOGL.csv\n"
     ]
    },
    {
     "name": "stderr",
     "output_type": "stream",
     "text": [
      "Classificando: 100%|██████████| 229/229 [00:09<00:00, 24.39it/s]\n"
     ]
    },
    {
     "name": "stdout",
     "output_type": "stream",
     "text": [
      "Salvo em: C:\\Users\\Marcelo\\Documents\\Code\\tcc-sentiment-analysis\\data\\inferred\\noticias_GOOGL.csv\n",
      "Processando: C:\\Users\\Marcelo\\Documents\\Code\\tcc-sentiment-analysis\\data\\raw\\noticias_MSFT.csv\n"
     ]
    },
    {
     "name": "stderr",
     "output_type": "stream",
     "text": [
      "Classificando: 100%|██████████| 231/231 [00:09<00:00, 24.36it/s]\n"
     ]
    },
    {
     "name": "stdout",
     "output_type": "stream",
     "text": [
      "Salvo em: C:\\Users\\Marcelo\\Documents\\Code\\tcc-sentiment-analysis\\data\\inferred\\noticias_MSFT.csv\n",
      "Processando: C:\\Users\\Marcelo\\Documents\\Code\\tcc-sentiment-analysis\\data\\raw\\noticias_TSLA.csv\n"
     ]
    },
    {
     "name": "stderr",
     "output_type": "stream",
     "text": [
      "Classificando: 100%|██████████| 227/227 [00:09<00:00, 23.98it/s]"
     ]
    },
    {
     "name": "stdout",
     "output_type": "stream",
     "text": [
      "Salvo em: C:\\Users\\Marcelo\\Documents\\Code\\tcc-sentiment-analysis\\data\\inferred\\noticias_TSLA.csv\n"
     ]
    },
    {
     "name": "stderr",
     "output_type": "stream",
     "text": [
      "\n"
     ]
    }
   ],
   "source": [
    "# Processar cada arquivo\n",
    "for nome_arquivo in arquivos:\n",
    "    caminho_csv = os.path.join(caminho_raw, nome_arquivo)\n",
    "    print(f\"Processando: {caminho_csv}\")\n",
    "    \n",
    "    # Carregar o DataFrame\n",
    "    df = pd.read_csv(caminho_csv)\n",
    "\n",
    "    text_column = \"Título\"\n",
    "    \n",
    "    if text_column not in df.columns:\n",
    "        print(f\"Aviso: arquivo '{nome_arquivo}' não possui coluna {text_column}. Pulando.\")\n",
    "        continue\n",
    "\n",
    "    # Fazer inferência de sentimento\n",
    "    sentimentos = []\n",
    "    for titulo in tqdm(df[text_column].astype(str), desc=\"Classificando\"):\n",
    "        try:\n",
    "            resultado = sentiment_pipeline(titulo)[0]\n",
    "            sentimentos.append(resultado[\"label\"])  # 'POSITIVE', 'NEGATIVE', 'NEUTRAL'\n",
    "        except Exception as e:\n",
    "            print(f\"Erro ao processar linha: {titulo} -> {e}\")\n",
    "            sentimentos.append(\"ERRO\")\n",
    "    \n",
    "    # Adicionar ao DataFrame\n",
    "    df[\"Sentimento\"] = sentimentos\n",
    "    \n",
    "    # Salvar no diretório de destino\n",
    "    caminho_arquivo_saida = os.path.join(caminho_saida, nome_arquivo)\n",
    "    df.to_csv(caminho_arquivo_saida, index=False, encoding=\"utf-8-sig\")\n",
    "    print(f\"Salvo em: {caminho_arquivo_saida}\")"
   ]
  }
 ],
 "metadata": {
  "kernelspec": {
   "display_name": ".venv",
   "language": "python",
   "name": "python3"
  },
  "language_info": {
   "codemirror_mode": {
    "name": "ipython",
    "version": 3
   },
   "file_extension": ".py",
   "mimetype": "text/x-python",
   "name": "python",
   "nbconvert_exporter": "python",
   "pygments_lexer": "ipython3",
   "version": "3.13.3"
  }
 },
 "nbformat": 4,
 "nbformat_minor": 5
}
