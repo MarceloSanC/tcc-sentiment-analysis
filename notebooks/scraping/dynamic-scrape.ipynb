{
 "cells": [
  {
   "cell_type": "markdown",
   "metadata": {},
   "source": [
    "# 🌐 Scraping de Dados de Notícias Financeiras com Selenium\n",
    "\n",
    "Este notebook tem como objetivo **extrair dados de notícias financeiras** do site Investing.com utilizando a biblioteca Selenium. O processo inclui a extração de elementos HTML através de seletores CSS e tags, e a captura de conteúdo relevante para análise posterior.\n",
    "\n",
    "1. **Configuração do Selenium**: Configuração do driver do Chrome para interação com a página web.\n",
    "2. **Extração de Dados**:\n",
    "   - Através de **tags HTML**: Extração de todos os elementos de uma tag específica.\n",
    "   - Através de **seletor CSS incremental**: Extração de elementos que seguem um padrão incremental no nome do seletor CSS.\n",
    "   - Captura de conteúdo de elementos específicos na página, como notícias financeiras.\n",
    "\n",
    "🚀 **Objetivo final**: Obter e organizar dados de notícias financeiras para análise ou modelagem posterior."
   ]
  },
  {
   "cell_type": "code",
   "execution_count": 1,
   "metadata": {},
   "outputs": [],
   "source": [
    "# !python -m pip install selenium"
   ]
  },
  {
   "cell_type": "code",
   "execution_count": 2,
   "metadata": {},
   "outputs": [],
   "source": [
    "from selenium import webdriver\n",
    "from selenium.webdriver.common.keys import Keys\n",
    "from selenium.webdriver.common.by import By"
   ]
  },
  {
   "cell_type": "code",
   "execution_count": 3,
   "metadata": {},
   "outputs": [],
   "source": [
    "driver = webdriver.Chrome()\n",
    "\n",
    "driver.get(\"https://www.investing.com/\")\n",
    "# print(driver.title)"
   ]
  },
  {
   "cell_type": "code",
   "execution_count": 4,
   "metadata": {},
   "outputs": [],
   "source": [
    "def print_all_elements_by_tag(tag_name: str):\n",
    "    \"\"\"\n",
    "    Extrai e imprime o texto de todos os elementos de uma página que possuem a tag especificada.\n",
    "\n",
    "    Args:\n",
    "        tag_name (str): Nome da tag HTML a ser buscada (por exemplo, 'div', 'p', 'span').\n",
    "\n",
    "    Retorna:\n",
    "        None: A função apenas imprime os textos dos elementos encontrados.\n",
    "\n",
    "    Exemplo de uso:\n",
    "        print_all_elements_by_tag('p')  # Imprime o texto de todos os elementos <p> na página.\n",
    "    \"\"\"\n",
    "    elem = driver.find_elements(By.TAG_NAME, tag_name)\n",
    "\n",
    "    for e in elem:\n",
    "        text = e.text\n",
    "        if text:\n",
    "            print(text)"
   ]
  },
  {
   "cell_type": "code",
   "execution_count": 5,
   "metadata": {},
   "outputs": [],
   "source": [
    "def get_elements_by_tag(driver_, parent_element, tag_type: str):\n",
    "    \"\"\"\n",
    "    Extrai o texto de elementos filhos de uma tag específica dentro de um elemento pai.\n",
    "\n",
    "    Args:\n",
    "        driver_ (WebDriver): Instância do WebDriver.\n",
    "        parent_element (WebElement): O elemento pai onde a busca pelos filhos será realizada.\n",
    "        tag_type (str): Nome da tag HTML dos elementos filhos a serem encontrados (por exemplo, 'a', 'div').\n",
    "\n",
    "    Retorna:\n",
    "        list: Uma lista contendo os textos dos elementos filhos encontrados e, se existirem, suas sublistas de filhos.\n",
    "\n",
    "    Exemplo de uso:\n",
    "        get_elements_by_tag(driver, parent_element, 'div')  # Extrai os textos de todas as divs dentro de parent_element.\n",
    "    \"\"\"\n",
    "    elements = []\n",
    "    \n",
    "    # Encontre todos os elementos filhos do tipo especificado dentro do elemento pai\n",
    "    child_elements = parent_element.find_elements(By.TAG_NAME, tag_type)\n",
    "    \n",
    "    for element in child_elements:\n",
    "        # Capture o conteúdo (texto) do elemento\n",
    "        element_content = element.text\n",
    "        \n",
    "        # Verifique se o elemento atual tem filhos do mesmo tipo\n",
    "        child_structure = get_elements_by_tag(driver_, element, tag_type)\n",
    "        \n",
    "        # Se houver filhos, adicione-os como sublista; caso contrário, adicione apenas o conteúdo\n",
    "        if child_structure:\n",
    "            elements.append([element_content, child_structure])\n",
    "        else:\n",
    "            elements.append(element_content)\n",
    "    \n",
    "    return elements"
   ]
  },
  {
   "cell_type": "code",
   "execution_count": 6,
   "metadata": {},
   "outputs": [],
   "source": [
    "def get_elements_by_incremental_css_name(css_selector_template: str, start: int, end: int):\n",
    "    \"\"\"\n",
    "    Extrai o texto de elementos na página com um seletor CSS incremental, baseado em um template de seletor.\n",
    "\n",
    "    Args:\n",
    "        css_selector_template (str): Template do seletor CSS com um espaço reservado para um número (por exemplo, '[data-test=\"homepage-news-list-item-{}\"]').\n",
    "        start (int): Número inicial para começar a busca.\n",
    "        end (int): Número final para terminar a busca.\n",
    "\n",
    "    Retorna:\n",
    "        list: Uma lista contendo os textos dos elementos encontrados dentro do intervalo especificado.\n",
    "\n",
    "    Exemplo de uso:\n",
    "        get_elements_by_incremental_css_name('[data-test=\"homepage-news-list-item-{}\"]', 1, 3)  # Extrai os textos dos elementos 1, 2 e 3.\n",
    "    \"\"\"\n",
    "    # Array para armazenar os textos dos elementos\n",
    "    elements_texts = []\n",
    "\n",
    "    # Iterar sobre o intervalo de números (start até end)\n",
    "    for i in range(start, end + 1):\n",
    "        # Criar o seletor CSS com o número atual\n",
    "        css_selector = css_selector_template.format(i)\n",
    "        try:\n",
    "            # Tentar encontrar o elemento\n",
    "            element = driver.find_element(By.CSS_SELECTOR, css_selector)\n",
    "            # Adicionar o texto do elemento ao array\n",
    "            elements_texts.append(element.text)\n",
    "        except:\n",
    "            # Se o elemento não for encontrado, ignorar e continuar\n",
    "            print(f\"Elemento {css_selector} não encontrado.\")\n",
    "    \n",
    "    return elements_texts"
   ]
  },
  {
   "cell_type": "code",
   "execution_count": 7,
   "metadata": {},
   "outputs": [
    {
     "data": {
      "text/plain": [
       "'China wants to make a deal ’very badly’, says Trump\\nInvesting.com -- During a recent White House event, President Donald Trump made several noteworthy announcements. He revealed that Washington D.C. will host the 2027 NFL draft and he expressed intent to aid the film industry, which he claimed is being ’decimated’ by other countries. The President, w...'"
      ]
     },
     "execution_count": 7,
     "metadata": {},
     "output_type": "execute_result"
    }
   ],
   "source": [
    "element = driver.find_element(By.CSS_SELECTOR, '[data-test=\"homepage-news-main-item-content\"]')\n",
    "element.text"
   ]
  },
  {
   "cell_type": "code",
   "execution_count": 8,
   "metadata": {},
   "outputs": [
    {
     "data": {
      "text/plain": [
       "['Ford shares fall as tariff concerns overshadow earnings beat',\n",
       " 'Partner News\\nActTrader at 25: A Legacy Platform with the Craftsmanship of a Watchmaker and the Energy of a Startup',\n",
       " 'Dollar slides against peers, weighed down by fresh tariff worries']"
      ]
     },
     "execution_count": 8,
     "metadata": {},
     "output_type": "execute_result"
    }
   ],
   "source": [
    "elements_texts = get_elements_by_incremental_css_name('[data-test=\"homepage-news-list-item-{}\"]', 1, 3)\n",
    "elements_texts"
   ]
  }
 ],
 "metadata": {
  "kernelspec": {
   "display_name": ".venv",
   "language": "python",
   "name": "python3"
  },
  "language_info": {
   "codemirror_mode": {
    "name": "ipython",
    "version": 3
   },
   "file_extension": ".py",
   "mimetype": "text/x-python",
   "name": "python",
   "nbconvert_exporter": "python",
   "pygments_lexer": "ipython3",
   "version": "3.13.3"
  }
 },
 "nbformat": 4,
 "nbformat_minor": 2
}
