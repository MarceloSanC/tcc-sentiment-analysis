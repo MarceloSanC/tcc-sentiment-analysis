{
 "cells": [
  {
   "cell_type": "code",
   "execution_count": null,
   "metadata": {},
   "outputs": [],
   "source": [
    "# !python -m pip install selenium"
   ]
  },
  {
   "cell_type": "code",
   "execution_count": 2,
   "metadata": {},
   "outputs": [],
   "source": [
    "from selenium import webdriver\n",
    "from selenium.webdriver.common.keys import Keys\n",
    "from selenium.webdriver.common.by import By"
   ]
  },
  {
   "cell_type": "code",
   "execution_count": 3,
   "metadata": {},
   "outputs": [],
   "source": [
    "driver = webdriver.Chrome()\n",
    "\n",
    "driver.get(\"https://www.investing.com/\")\n",
    "# print(driver.title)"
   ]
  },
  {
   "cell_type": "code",
   "execution_count": 4,
   "metadata": {},
   "outputs": [],
   "source": [
    "def print_all_elements_by_tag(tag_name: str):\n",
    "    elem = driver.find_elements(By.TAG_NAME, tag_name)\n",
    "\n",
    "    for e in elem:\n",
    "        text = e.text\n",
    "        if text:\n",
    "            print(text)"
   ]
  },
  {
   "cell_type": "code",
   "execution_count": 5,
   "metadata": {},
   "outputs": [],
   "source": [
    "def get_elements_by_tag(driver_, parent_element, tag_type: str):\n",
    "    elements = []\n",
    "    \n",
    "    # Encontre todos os elementos filhos do tipo especificado dentro do elemento pai\n",
    "    child_elements = parent_element.find_elements(By.TAG_NAME, tag_type)\n",
    "    \n",
    "    for element in child_elements:\n",
    "        # Capture o conteúdo (texto) do elemento\n",
    "        element_content = element.text\n",
    "        \n",
    "        # Verifique se o elemento atual tem filhos do mesmo tipo\n",
    "        child_structure = get_elements_by_tag(driver_, element, tag_type)\n",
    "        \n",
    "        # Se houver filhos, adicione-os como sublista; caso contrário, adicione apenas o conteúdo\n",
    "        if child_structure:\n",
    "            elements.append([element_content, child_structure])\n",
    "        else:\n",
    "            elements.append(element_content)\n",
    "    \n",
    "    return elements"
   ]
  },
  {
   "cell_type": "code",
   "execution_count": 6,
   "metadata": {},
   "outputs": [],
   "source": [
    "def get_elements_by_incremental_css_name(css_selector_template: str, start: int, end: int):\n",
    "    # Array para armazenar os textos dos elementos\n",
    "    elements_texts = []\n",
    "\n",
    "    # Iterar sobre o intervalo de números (start até end)\n",
    "    for i in range(start, end + 1):\n",
    "        # Criar o seletor CSS com o número atual\n",
    "        css_selector = css_selector_template.format(i)\n",
    "        try:\n",
    "            # Tentar encontrar o elemento\n",
    "            element = driver.find_element(By.CSS_SELECTOR, css_selector)\n",
    "            # Adicionar o texto do elemento ao array\n",
    "            elements_texts.append(element.text)\n",
    "        except:\n",
    "            # Se o elemento não for encontrado, ignorar e continuar\n",
    "            print(f\"Elemento {css_selector} não encontrado.\")\n",
    "    \n",
    "    return elements_texts"
   ]
  },
  {
   "cell_type": "code",
   "execution_count": 9,
   "metadata": {},
   "outputs": [
    {
     "data": {
      "text/plain": [
       "\"Israel pounds Beirut and Gaza after rockets hit Israel's north\\nBy Maayan Lubell, Maya Gebeily and Nidal al-Mughrabi JERUSALEM/BEIRUT/CAIRO (Reuters) -Israel struck what it said were Hezbollah arms facilities in southern Beirut on Saturday after the Lebanese armed group fired rockets into northern Israel and a spokesman said a drone was launched at Prime Minist...\""
      ]
     },
     "execution_count": 9,
     "metadata": {},
     "output_type": "execute_result"
    }
   ],
   "source": [
    "element = driver.find_element(By.CSS_SELECTOR, '[data-test=\"homepage-news-main-item-content\"]')\n",
    "element.text"
   ]
  },
  {
   "cell_type": "code",
   "execution_count": 10,
   "metadata": {},
   "outputs": [
    {
     "data": {
      "text/plain": [
       "['Boeing workers to vote on new wage deal that could end strike',\n",
       " 'Cuba making slow progress re-starting power after second grid collapse',\n",
       " '']"
      ]
     },
     "execution_count": 10,
     "metadata": {},
     "output_type": "execute_result"
    }
   ],
   "source": [
    "elements_texts = get_elements_by_incremental_css_name('[data-test=\"homepage-news-list-item-{}\"]', 1, 3)\n",
    "elements_texts\n"
   ]
  }
 ],
 "metadata": {
  "kernelspec": {
   "display_name": ".venv_nlp",
   "language": "python",
   "name": "python3"
  },
  "language_info": {
   "codemirror_mode": {
    "name": "ipython",
    "version": 3
   },
   "file_extension": ".py",
   "mimetype": "text/x-python",
   "name": "python",
   "nbconvert_exporter": "python",
   "pygments_lexer": "ipython3",
   "version": "3.12.7"
  }
 },
 "nbformat": 4,
 "nbformat_minor": 2
}
