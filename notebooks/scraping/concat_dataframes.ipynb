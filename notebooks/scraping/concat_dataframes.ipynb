{
 "cells": [
  {
   "cell_type": "code",
   "execution_count": 8,
   "metadata": {},
   "outputs": [],
   "source": [
    "import pandas as pd"
   ]
  },
  {
   "cell_type": "code",
   "execution_count": 9,
   "metadata": {},
   "outputs": [],
   "source": [
    "def concat_csv_files(file_paths, output_path):\n",
    "    # Define as colunas exigidas\n",
    "    required_columns = {'Link', 'Title', 'Description', 'PublishDate'}\n",
    "    \n",
    "    # Lista para armazenar DataFrames válidos\n",
    "    dataframes = []\n",
    "    \n",
    "    for file_path in file_paths:\n",
    "        # Lê o arquivo .csv\n",
    "        try:\n",
    "            df = pd.read_csv(file_path)\n",
    "            \n",
    "            # Verifica se todas as colunas exigidas estão presentes\n",
    "            if required_columns.issubset(df.columns):\n",
    "                dataframes.append(df)\n",
    "            else:\n",
    "                print(f\"O arquivo {file_path} não contém todas as colunas exigidas e será ignorado.\")\n",
    "        \n",
    "        except Exception as e:\n",
    "            print(f\"Erro ao ler o arquivo {file_path}: {e}\")\n",
    "    \n",
    "    # Concatena todos os DataFrames válidos e salva no arquivo de saída\n",
    "    if dataframes:\n",
    "        concatenated_df = pd.concat(dataframes, ignore_index=True)\n",
    "        concatenated_df.to_csv(output_path, index=False)\n",
    "        print(f\"Tabelas concatenadas salvas em '{output_path}'.\")\n",
    "    else:\n",
    "        print(\"Nenhum arquivo válido para concatenação.\")"
   ]
  },
  {
   "cell_type": "code",
   "execution_count": 10,
   "metadata": {},
   "outputs": [
    {
     "name": "stdout",
     "output_type": "stream",
     "text": [
      "Tabelas concatenadas salvas em 'D:/Codes/tcc-sentiment-analysis/data/news/news_data_concat.csv'.\n",
      "None\n"
     ]
    }
   ],
   "source": [
    "file1 = 'D:/Codes/tcc-sentiment-analysis/notebooks/scraping/Yahoo/news_data.csv'\n",
    "file2 = 'D:/Codes/tcc-sentiment-analysis/notebooks/scraping/Investing/news_data.csv'\n",
    "\n",
    "output_path = 'D:/Codes/tcc-sentiment-analysis/data/news/news_data_concat.csv'\n",
    "\n",
    "file_paths = [file1, file2]\n",
    "final_df = concat_csv_files(file_paths, output_path)\n",
    "print(final_df)"
   ]
  }
 ],
 "metadata": {
  "kernelspec": {
   "display_name": ".venv_nlp",
   "language": "python",
   "name": "python3"
  },
  "language_info": {
   "codemirror_mode": {
    "name": "ipython",
    "version": 3
   },
   "file_extension": ".py",
   "mimetype": "text/x-python",
   "name": "python",
   "nbconvert_exporter": "python",
   "pygments_lexer": "ipython3",
   "version": "3.12.7"
  }
 },
 "nbformat": 4,
 "nbformat_minor": 2
}
