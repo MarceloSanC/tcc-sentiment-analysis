{
 "cells": [
  {
   "cell_type": "markdown",
   "metadata": {},
   "source": [
    "# 📄 Consolidação de Dados de Notícias Financeiras\n",
    "\n",
    "Este notebook tem como objetivo **consolidar múltiplos arquivos `.csv` contendo notícias financeiras** coletadas de diferentes fontes (por exemplo, Yahoo Finance e Investing.com). O processo executado envolve:\n",
    "\n",
    "- Leitura dos arquivos `.csv` com os dados de notícias.\n",
    "- Validação da presença das colunas necessárias: `Link`, `Title`, `Description` e `PublishDate`.\n",
    "- Ignoração de arquivos que não atendem ao formato esperado.\n",
    "- Concatenação dos dados válidos em um único DataFrame.\n",
    "- Salvamento do resultado consolidado em um novo arquivo `.csv`. \n",
    "\n",
    "Essa consolidação é essencial para padronizar a base de dados antes da realização de análises, como classificação de sentimentos ou modelagens preditivas.\n",
    "\n",
    "🚀 **Saída gerada**: `news_data_concat.csv`, contendo todas as notícias válidas em um único arquivo.\n"
   ]
  },
  {
   "cell_type": "code",
   "execution_count": 8,
   "metadata": {},
   "outputs": [],
   "source": [
    "import pandas as pd"
   ]
  },
  {
   "cell_type": "code",
   "execution_count": null,
   "metadata": {},
   "outputs": [],
   "source": [
    "def concat_csv_files(file_paths, output_path):\n",
    "    \"\"\"\n",
    "    Concatena múltiplos arquivos CSV contendo dados de notícias e salva o resultado em um único arquivo.\n",
    "\n",
    "    Esta função lê os arquivos CSV fornecidos, verifica se cada arquivo contém as colunas necessárias \n",
    "    (Link, Title, Description, PublishDate), e concatena os arquivos válidos em um único DataFrame. O \n",
    "    resultado é então salvo em um novo arquivo CSV.\n",
    "\n",
    "    Args:\n",
    "        file_paths (list of str): Lista com os caminhos dos arquivos CSV a serem lidos e concatenados.\n",
    "        output_path (str): Caminho do arquivo de saída onde os dados concatenados serão salvos.\n",
    "\n",
    "    Returns:\n",
    "        None: A função salva o arquivo concatenado no caminho especificado, mas não retorna nada.\n",
    "        \n",
    "    Exceções:\n",
    "        Caso um arquivo não contenha as colunas exigidas ou ocorra um erro ao ler um arquivo, a função\n",
    "        ignora o arquivo e imprime uma mensagem de erro ou aviso.\n",
    "    \"\"\"\n",
    "    # Define as colunas exigidas\n",
    "    required_columns = {'Link', 'Title', 'Description', 'PublishDate'}\n",
    "    \n",
    "    # Lista para armazenar DataFrames válidos\n",
    "    dataframes = []\n",
    "    \n",
    "    for file_path in file_paths:\n",
    "        # Lê o arquivo .csv\n",
    "        try:\n",
    "            df = pd.read_csv(file_path)\n",
    "            \n",
    "            # Verifica se todas as colunas exigidas estão presentes\n",
    "            if required_columns.issubset(df.columns):\n",
    "                dataframes.append(df)\n",
    "            else:\n",
    "                print(f\"O arquivo {file_path} não contém todas as colunas exigidas e será ignorado.\")\n",
    "        \n",
    "        except Exception as e:\n",
    "            print(f\"Erro ao ler o arquivo {file_path}: {e}\")\n",
    "    \n",
    "    # Concatena todos os DataFrames válidos e salva no arquivo de saída\n",
    "    if dataframes:\n",
    "        concatenated_df = pd.concat(dataframes, ignore_index=True)\n",
    "        concatenated_df.to_csv(output_path, index=False)\n",
    "        print(f\"Tabelas concatenadas salvas em '{output_path}'.\")\n",
    "    else:\n",
    "        print(\"Nenhum arquivo válido para concatenação.\")"
   ]
  },
  {
   "cell_type": "code",
   "execution_count": null,
   "metadata": {},
   "outputs": [
    {
     "name": "stdout",
     "output_type": "stream",
     "text": [
      "Tabelas concatenadas salvas em 'D:/Codes/tcc-sentiment-analysis/data/news/news_data_concat.csv'.\n",
      "None\n"
     ]
    }
   ],
   "source": [
    "file1 = 'D:/Codes/tcc-sentiment-analysis/notebooks/scraping/Yahoo/news_data.csv'\n",
    "file2 = 'D:/Codes/tcc-sentiment-analysis/notebooks/scraping/Investing/news_data.csv'\n",
    "\n",
    "output_path = 'D:/Codes/tcc-sentiment-analysis/data/news/news_data_concat.csv'\n",
    "\n",
    "file_paths = [file1, file2]\n",
    "final_df = concat_csv_files(file_paths, output_path)\n",
    "print(final_df)"
   ]
  }
 ],
 "metadata": {
  "kernelspec": {
   "display_name": ".venv_nlp",
   "language": "python",
   "name": "python3"
  },
  "language_info": {
   "codemirror_mode": {
    "name": "ipython",
    "version": 3
   },
   "file_extension": ".py",
   "mimetype": "text/x-python",
   "name": "python",
   "nbconvert_exporter": "python",
   "pygments_lexer": "ipython3",
   "version": "3.12.7"
  }
 },
 "nbformat": 4,
 "nbformat_minor": 2
}
