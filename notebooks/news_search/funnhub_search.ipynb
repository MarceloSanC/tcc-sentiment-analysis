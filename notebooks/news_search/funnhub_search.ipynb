{
 "cells": [
  {
   "cell_type": "code",
   "execution_count": 1,
   "id": "bea51818",
   "metadata": {},
   "outputs": [],
   "source": [
    "import requests\n",
    "import csv\n",
    "from datetime import datetime, timedelta\n",
    "import os"
   ]
  },
  {
   "cell_type": "code",
   "execution_count": 2,
   "id": "3af5319d",
   "metadata": {},
   "outputs": [],
   "source": [
    "def buscar_noticias(ticker, data_inicio, data_fim):\n",
    "    url = f\"https://finnhub.io/api/v1/company-news\"\n",
    "    params = {\n",
    "        \"symbol\": ticker,\n",
    "        \"from\": data_inicio,\n",
    "        \"to\": data_fim,\n",
    "        \"token\": \"d0ls2p9r01qpni3125ngd0ls2p9r01qpni3125o0\"\n",
    "    }\n",
    "    response = requests.get(url, params=params)\n",
    "    if response.status_code == 200:\n",
    "        return response.json()\n",
    "    else:\n",
    "        print(f\"Erro ao buscar {ticker}: {response.status_code}\")\n",
    "        return []\n",
    "    \n",
    "def salvar_csv(noticias, ticker):\n",
    "    if not noticias:\n",
    "        print(f\"Nenhuma notícia para {ticker}.\")\n",
    "        return\n",
    "\n",
    "    filename = f\"C://Users//Marcelo//Documents//Code//tcc-sentiment-analysis//data//raw//noticias_{ticker}.csv\"\n",
    "    with open(filename, mode=\"w\", newline=\"\", encoding=\"utf-8\") as arquivo:\n",
    "        writer = csv.writer(arquivo)\n",
    "        writer.writerow([\"Ticker\", \"Data\", \"Título\", \"Fonte\", \"URL\"])\n",
    "        for noticia in noticias:\n",
    "            data = datetime.fromtimestamp(noticia[\"datetime\"]).strftime('%Y-%m-%d %H:%M')\n",
    "            writer.writerow([ticker, data, noticia[\"headline\"], noticia[\"source\"], noticia[\"url\"]])\n",
    "    print(f\"Arquivo salvo: {filename}\")"
   ]
  },
  {
   "cell_type": "code",
   "execution_count": 3,
   "id": "ddcf5b7a",
   "metadata": {},
   "outputs": [],
   "source": [
    "# === CONFIGURAÇÃO ===\n",
    "API_KEY = \"SUA_API_KEY_AQUI\"  # Insira sua API Key da Finnhub\n",
    "TICKERS = [\"AAPL\", \"MSFT\", \"TSLA\", \"GOOGL\"]  # Lista de ações\n",
    "DIAS = 7  # Quantos dias atrás buscar"
   ]
  },
  {
   "cell_type": "code",
   "execution_count": 4,
   "id": "cc5c63d2",
   "metadata": {},
   "outputs": [
    {
     "name": "stdout",
     "output_type": "stream",
     "text": [
      "Buscando notícias de AAPL...\n",
      "Arquivo salvo: C://Users//Marcelo//Documents//Code//tcc-sentiment-analysis//data//raw//noticias_AAPL.csv\n",
      "Buscando notícias de MSFT...\n",
      "Arquivo salvo: C://Users//Marcelo//Documents//Code//tcc-sentiment-analysis//data//raw//noticias_MSFT.csv\n",
      "Buscando notícias de TSLA...\n",
      "Arquivo salvo: C://Users//Marcelo//Documents//Code//tcc-sentiment-analysis//data//raw//noticias_TSLA.csv\n",
      "Buscando notícias de GOOGL...\n",
      "Arquivo salvo: C://Users//Marcelo//Documents//Code//tcc-sentiment-analysis//data//raw//noticias_GOOGL.csv\n"
     ]
    }
   ],
   "source": [
    "hoje = datetime.today()\n",
    "inicio = (hoje - timedelta(days=DIAS)).strftime('%Y-%m-%d')\n",
    "fim = hoje.strftime('%Y-%m-%d')\n",
    "\n",
    "for ticker in TICKERS:\n",
    "    print(f\"Buscando notícias de {ticker}...\")\n",
    "    noticias = buscar_noticias(ticker, inicio, fim)\n",
    "    salvar_csv(noticias, ticker)"
   ]
  }
 ],
 "metadata": {
  "kernelspec": {
   "display_name": ".venv",
   "language": "python",
   "name": "python3"
  },
  "language_info": {
   "codemirror_mode": {
    "name": "ipython",
    "version": 3
   },
   "file_extension": ".py",
   "mimetype": "text/x-python",
   "name": "python",
   "nbconvert_exporter": "python",
   "pygments_lexer": "ipython3",
   "version": "3.13.3"
  }
 },
 "nbformat": 4,
 "nbformat_minor": 5
}
