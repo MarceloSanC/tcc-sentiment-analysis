{
 "cells": [
  {
   "cell_type": "code",
   "execution_count": 1,
   "metadata": {},
   "outputs": [
    {
     "name": "stdout",
     "output_type": "stream",
     "text": [
      "Collecting selenium\n",
      "  Downloading selenium-4.25.0-py3-none-any.whl.metadata (7.1 kB)\n",
      "Requirement already satisfied: urllib3<3,>=1.26 in d:\\codes\\tcc-sentiment-analysis\\.venv_nlp\\lib\\site-packages (from urllib3[socks]<3,>=1.26->selenium) (2.2.3)\n",
      "Collecting trio~=0.17 (from selenium)\n",
      "  Downloading trio-0.27.0-py3-none-any.whl.metadata (8.6 kB)\n",
      "Collecting trio-websocket~=0.9 (from selenium)\n",
      "  Downloading trio_websocket-0.11.1-py3-none-any.whl.metadata (4.7 kB)\n",
      "Requirement already satisfied: certifi>=2021.10.8 in d:\\codes\\tcc-sentiment-analysis\\.venv_nlp\\lib\\site-packages (from selenium) (2024.8.30)\n",
      "Collecting typing_extensions~=4.9 (from selenium)\n",
      "  Downloading typing_extensions-4.12.2-py3-none-any.whl.metadata (3.0 kB)\n",
      "Requirement already satisfied: websocket-client~=1.8 in d:\\codes\\tcc-sentiment-analysis\\.venv_nlp\\lib\\site-packages (from selenium) (1.8.0)\n",
      "Requirement already satisfied: attrs>=23.2.0 in d:\\codes\\tcc-sentiment-analysis\\.venv_nlp\\lib\\site-packages (from trio~=0.17->selenium) (24.2.0)\n",
      "Collecting sortedcontainers (from trio~=0.17->selenium)\n",
      "  Downloading sortedcontainers-2.4.0-py2.py3-none-any.whl.metadata (10 kB)\n",
      "Requirement already satisfied: idna in d:\\codes\\tcc-sentiment-analysis\\.venv_nlp\\lib\\site-packages (from trio~=0.17->selenium) (3.10)\n",
      "Collecting outcome (from trio~=0.17->selenium)\n",
      "  Downloading outcome-1.3.0.post0-py2.py3-none-any.whl.metadata (2.6 kB)\n",
      "Requirement already satisfied: sniffio>=1.3.0 in d:\\codes\\tcc-sentiment-analysis\\.venv_nlp\\lib\\site-packages (from trio~=0.17->selenium) (1.3.1)\n",
      "Requirement already satisfied: cffi>=1.14 in d:\\codes\\tcc-sentiment-analysis\\.venv_nlp\\lib\\site-packages (from trio~=0.17->selenium) (1.17.1)\n",
      "Collecting wsproto>=0.14 (from trio-websocket~=0.9->selenium)\n",
      "  Downloading wsproto-1.2.0-py3-none-any.whl.metadata (5.6 kB)\n",
      "Collecting pysocks!=1.5.7,<2.0,>=1.5.6 (from urllib3[socks]<3,>=1.26->selenium)\n",
      "  Downloading PySocks-1.7.1-py3-none-any.whl.metadata (13 kB)\n",
      "Requirement already satisfied: pycparser in d:\\codes\\tcc-sentiment-analysis\\.venv_nlp\\lib\\site-packages (from cffi>=1.14->trio~=0.17->selenium) (2.22)\n",
      "Requirement already satisfied: h11<1,>=0.9.0 in d:\\codes\\tcc-sentiment-analysis\\.venv_nlp\\lib\\site-packages (from wsproto>=0.14->trio-websocket~=0.9->selenium) (0.14.0)\n",
      "Downloading selenium-4.25.0-py3-none-any.whl (9.7 MB)\n",
      "   ---------------------------------------- 0.0/9.7 MB ? eta -:--:--\n",
      "   -- ------------------------------------- 0.5/9.7 MB 3.3 MB/s eta 0:00:03\n",
      "   ---- ----------------------------------- 1.0/9.7 MB 3.3 MB/s eta 0:00:03\n",
      "   -------- ------------------------------- 2.1/9.7 MB 3.8 MB/s eta 0:00:03\n",
      "   ---------------- ----------------------- 3.9/9.7 MB 5.1 MB/s eta 0:00:02\n",
      "   ----------------------- ---------------- 5.8/9.7 MB 6.0 MB/s eta 0:00:01\n",
      "   ---------------------------------- ----- 8.4/9.7 MB 7.1 MB/s eta 0:00:01\n",
      "   -------------------------------------- - 9.4/9.7 MB 7.4 MB/s eta 0:00:01\n",
      "   ---------------------------------------- 9.7/9.7 MB 6.4 MB/s eta 0:00:00\n",
      "Downloading trio-0.27.0-py3-none-any.whl (481 kB)\n",
      "Downloading trio_websocket-0.11.1-py3-none-any.whl (17 kB)\n",
      "Downloading typing_extensions-4.12.2-py3-none-any.whl (37 kB)\n",
      "Downloading PySocks-1.7.1-py3-none-any.whl (16 kB)\n",
      "Downloading wsproto-1.2.0-py3-none-any.whl (24 kB)\n",
      "Downloading outcome-1.3.0.post0-py2.py3-none-any.whl (10 kB)\n",
      "Downloading sortedcontainers-2.4.0-py2.py3-none-any.whl (29 kB)\n",
      "Installing collected packages: sortedcontainers, wsproto, typing_extensions, pysocks, outcome, trio, trio-websocket, selenium\n",
      "Successfully installed outcome-1.3.0.post0 pysocks-1.7.1 selenium-4.25.0 sortedcontainers-2.4.0 trio-0.27.0 trio-websocket-0.11.1 typing_extensions-4.12.2 wsproto-1.2.0\n"
     ]
    }
   ],
   "source": [
    "!python -m pip install selenium"
   ]
  },
  {
   "cell_type": "code",
   "execution_count": 2,
   "metadata": {},
   "outputs": [],
   "source": [
    "from selenium import webdriver\n",
    "from selenium.webdriver.common.keys import Keys\n",
    "from selenium.webdriver.common.by import By"
   ]
  },
  {
   "cell_type": "code",
   "execution_count": 3,
   "metadata": {},
   "outputs": [],
   "source": [
    "driver = webdriver.Chrome()\n",
    "\n",
    "driver.get(\"https://www.investing.com/\")\n",
    "# print(driver.title)"
   ]
  },
  {
   "cell_type": "code",
   "execution_count": 4,
   "metadata": {},
   "outputs": [],
   "source": [
    "def print_all_elements_by_tag(tag_name: str):\n",
    "    elem = driver.find_elements(By.TAG_NAME, tag_name)\n",
    "\n",
    "    for e in elem:\n",
    "        text = e.text\n",
    "        if text:\n",
    "            print(text)"
   ]
  },
  {
   "cell_type": "code",
   "execution_count": 5,
   "metadata": {},
   "outputs": [],
   "source": [
    "def get_elements_by_tag(driver_, parent_element, tag_type: str):\n",
    "    elements = []\n",
    "    \n",
    "    # Encontre todos os elementos filhos do tipo especificado dentro do elemento pai\n",
    "    child_elements = parent_element.find_elements(By.TAG_NAME, tag_type)\n",
    "    \n",
    "    for element in child_elements:\n",
    "        # Capture o conteúdo (texto) do elemento\n",
    "        element_content = element.text\n",
    "        \n",
    "        # Verifique se o elemento atual tem filhos do mesmo tipo\n",
    "        child_structure = get_elements_by_tag(driver_, element, tag_type)\n",
    "        \n",
    "        # Se houver filhos, adicione-os como sublista; caso contrário, adicione apenas o conteúdo\n",
    "        if child_structure:\n",
    "            elements.append([element_content, child_structure])\n",
    "        else:\n",
    "            elements.append(element_content)\n",
    "    \n",
    "    return elements"
   ]
  },
  {
   "cell_type": "code",
   "execution_count": 6,
   "metadata": {},
   "outputs": [],
   "source": [
    "def get_elements_by_incremental_css_name(css_selector_template: str, start: int, end: int):\n",
    "    # Array para armazenar os textos dos elementos\n",
    "    elements_texts = []\n",
    "\n",
    "    # Iterar sobre o intervalo de números (start até end)\n",
    "    for i in range(start, end + 1):\n",
    "        # Criar o seletor CSS com o número atual\n",
    "        css_selector = css_selector_template.format(i)\n",
    "        try:\n",
    "            # Tentar encontrar o elemento\n",
    "            element = driver.find_element(By.CSS_SELECTOR, css_selector)\n",
    "            # Adicionar o texto do elemento ao array\n",
    "            elements_texts.append(element.text)\n",
    "        except:\n",
    "            # Se o elemento não for encontrado, ignorar e continuar\n",
    "            print(f\"Elemento {css_selector} não encontrado.\")\n",
    "    \n",
    "    return elements_texts"
   ]
  },
  {
   "cell_type": "code",
   "execution_count": 7,
   "metadata": {},
   "outputs": [
    {
     "data": {
      "text/plain": [
       "'US stock futures edge lower with TSMC earnings on tap\\nInvesting.com- U.S. stock index futures fell slightly in evening deals on Wednesday, with technology shares steady before closely watched earnings from chipmaking giant TSMC, which are set to offer more cues on the artificial intelligence trade.  Futures steadied after a positive session on Wall Str...'"
      ]
     },
     "execution_count": 7,
     "metadata": {},
     "output_type": "execute_result"
    }
   ],
   "source": [
    "element = driver.find_element(By.CSS_SELECTOR, '[data-test=\"homepage-news-main-item-content\"]')\n",
    "element.text"
   ]
  },
  {
   "cell_type": "code",
   "execution_count": 8,
   "metadata": {},
   "outputs": [
    {
     "data": {
      "text/plain": [
       "['Alcoa shares jump on stronger-than-expected profit',\n",
       " 'Expedia shares surge on report Uber considered potential bid',\n",
       " '']"
      ]
     },
     "execution_count": 8,
     "metadata": {},
     "output_type": "execute_result"
    }
   ],
   "source": [
    "elements_texts = get_elements_by_incremental_css_name('[data-test=\"homepage-news-list-item-{}\"]', 1, 3)\n",
    "elements_texts\n"
   ]
  }
 ],
 "metadata": {
  "kernelspec": {
   "display_name": ".venv_nlp",
   "language": "python",
   "name": "python3"
  },
  "language_info": {
   "codemirror_mode": {
    "name": "ipython",
    "version": 3
   },
   "file_extension": ".py",
   "mimetype": "text/x-python",
   "name": "python",
   "nbconvert_exporter": "python",
   "pygments_lexer": "ipython3",
   "version": "3.12.7"
  }
 },
 "nbformat": 4,
 "nbformat_minor": 2
}
