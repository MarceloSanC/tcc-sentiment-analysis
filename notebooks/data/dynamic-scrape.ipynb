{
 "cells": [
  {
   "cell_type": "code",
   "execution_count": 1,
   "metadata": {},
   "outputs": [
    {
     "name": "stdout",
     "output_type": "stream",
     "text": [
      "Requirement already satisfied: selenium in d:\\codes\\tcc-sentiment-analysis\\nlpvenv\\lib\\site-packages (4.25.0)\n",
      "Requirement already satisfied: urllib3[socks]<3,>=1.26 in d:\\codes\\tcc-sentiment-analysis\\nlpvenv\\lib\\site-packages (from selenium) (2.2.3)\n",
      "Requirement already satisfied: trio~=0.17 in d:\\codes\\tcc-sentiment-analysis\\nlpvenv\\lib\\site-packages (from selenium) (0.26.2)\n",
      "Requirement already satisfied: trio-websocket~=0.9 in d:\\codes\\tcc-sentiment-analysis\\nlpvenv\\lib\\site-packages (from selenium) (0.11.1)\n",
      "Requirement already satisfied: certifi>=2021.10.8 in d:\\codes\\tcc-sentiment-analysis\\nlpvenv\\lib\\site-packages (from selenium) (2024.8.30)\n",
      "Requirement already satisfied: typing_extensions~=4.9 in d:\\codes\\tcc-sentiment-analysis\\nlpvenv\\lib\\site-packages (from selenium) (4.9.0)\n",
      "Requirement already satisfied: websocket-client~=1.8 in d:\\codes\\tcc-sentiment-analysis\\nlpvenv\\lib\\site-packages (from selenium) (1.8.0)\n",
      "Requirement already satisfied: attrs>=23.2.0 in d:\\codes\\tcc-sentiment-analysis\\nlpvenv\\lib\\site-packages (from trio~=0.17->selenium) (24.2.0)\n",
      "Requirement already satisfied: sortedcontainers in d:\\codes\\tcc-sentiment-analysis\\nlpvenv\\lib\\site-packages (from trio~=0.17->selenium) (2.4.0)\n",
      "Requirement already satisfied: idna in d:\\codes\\tcc-sentiment-analysis\\nlpvenv\\lib\\site-packages (from trio~=0.17->selenium) (3.10)\n",
      "Requirement already satisfied: outcome in d:\\codes\\tcc-sentiment-analysis\\nlpvenv\\lib\\site-packages (from trio~=0.17->selenium) (1.3.0.post0)\n",
      "Requirement already satisfied: sniffio>=1.3.0 in d:\\codes\\tcc-sentiment-analysis\\nlpvenv\\lib\\site-packages (from trio~=0.17->selenium) (1.3.1)\n",
      "Requirement already satisfied: cffi>=1.14 in d:\\codes\\tcc-sentiment-analysis\\nlpvenv\\lib\\site-packages (from trio~=0.17->selenium) (1.17.1)\n",
      "Requirement already satisfied: wsproto>=0.14 in d:\\codes\\tcc-sentiment-analysis\\nlpvenv\\lib\\site-packages (from trio-websocket~=0.9->selenium) (1.2.0)\n",
      "Requirement already satisfied: pysocks!=1.5.7,<2.0,>=1.5.6 in d:\\codes\\tcc-sentiment-analysis\\nlpvenv\\lib\\site-packages (from urllib3[socks]<3,>=1.26->selenium) (1.7.1)\n",
      "Requirement already satisfied: pycparser in d:\\codes\\tcc-sentiment-analysis\\nlpvenv\\lib\\site-packages (from cffi>=1.14->trio~=0.17->selenium) (2.22)\n",
      "Requirement already satisfied: h11<1,>=0.9.0 in d:\\codes\\tcc-sentiment-analysis\\nlpvenv\\lib\\site-packages (from wsproto>=0.14->trio-websocket~=0.9->selenium) (0.14.0)\n"
     ]
    },
    {
     "name": "stderr",
     "output_type": "stream",
     "text": [
      "\n",
      "[notice] A new release of pip is available: 23.2.1 -> 24.2\n",
      "[notice] To update, run: python.exe -m pip install --upgrade pip\n"
     ]
    }
   ],
   "source": [
    "!python -m pip install selenium"
   ]
  },
  {
   "cell_type": "code",
   "execution_count": 2,
   "metadata": {},
   "outputs": [],
   "source": [
    "from selenium import webdriver\n",
    "from selenium.webdriver.common.keys import Keys\n",
    "from selenium.webdriver.common.by import By"
   ]
  },
  {
   "cell_type": "code",
   "execution_count": 3,
   "metadata": {},
   "outputs": [],
   "source": [
    "driver = webdriver.Chrome()\n",
    "\n",
    "driver.get(\"https://www.investing.com/\")\n",
    "# print(driver.title)"
   ]
  },
  {
   "cell_type": "code",
   "execution_count": 4,
   "metadata": {},
   "outputs": [],
   "source": [
    "def print_all_elements_by_tag(tag_name: str):\n",
    "    elem = driver.find_elements(By.TAG_NAME, tag_name)\n",
    "\n",
    "    for e in elem:\n",
    "        text = e.text\n",
    "        if text:\n",
    "            print(text)"
   ]
  },
  {
   "cell_type": "code",
   "execution_count": 5,
   "metadata": {},
   "outputs": [],
   "source": [
    "def get_elements_by_tag(driver_, parent_element, tag_type: str):\n",
    "    elements = []\n",
    "    \n",
    "    # Encontre todos os elementos filhos do tipo especificado dentro do elemento pai\n",
    "    child_elements = parent_element.find_elements(By.TAG_NAME, tag_type)\n",
    "    \n",
    "    for element in child_elements:\n",
    "        # Capture o conteúdo (texto) do elemento\n",
    "        element_content = element.text\n",
    "        \n",
    "        # Verifique se o elemento atual tem filhos do mesmo tipo\n",
    "        child_structure = get_elements_by_tag(driver_, element, tag_type)\n",
    "        \n",
    "        # Se houver filhos, adicione-os como sublista; caso contrário, adicione apenas o conteúdo\n",
    "        if child_structure:\n",
    "            elements.append([element_content, child_structure])\n",
    "        else:\n",
    "            elements.append(element_content)\n",
    "    \n",
    "    return elements"
   ]
  },
  {
   "cell_type": "code",
   "execution_count": 6,
   "metadata": {},
   "outputs": [],
   "source": [
    "def get_elements_by_incremental_css_name(css_selector_template: str, start: int, end: int):\n",
    "    # Array para armazenar os textos dos elementos\n",
    "    elements_texts = []\n",
    "\n",
    "    # Iterar sobre o intervalo de números (start até end)\n",
    "    for i in range(start, end + 1):\n",
    "        # Criar o seletor CSS com o número atual\n",
    "        css_selector = css_selector_template.format(i)\n",
    "        try:\n",
    "            # Tentar encontrar o elemento\n",
    "            element = driver.find_element(By.CSS_SELECTOR, css_selector)\n",
    "            # Adicionar o texto do elemento ao array\n",
    "            elements_texts.append(element.text)\n",
    "        except:\n",
    "            # Se o elemento não for encontrado, ignorar e continuar\n",
    "            print(f\"Elemento {css_selector} não encontrado.\")\n",
    "    \n",
    "    return elements_texts"
   ]
  },
  {
   "cell_type": "code",
   "execution_count": 7,
   "metadata": {},
   "outputs": [
    {
     "data": {
      "text/plain": [
       "\"Harris' abortion rights bus tour aims for votes the big rallies don't reach\\nBy Gabriella Borter ALLENTOWN, Pennsylvania (Reuters) - An intimate crowd gathered around a blue bus and listened intently while Hadley Duvall, an abortion rights advocate and a supporter of Kamala Harris' presidential campaign, told how she was raped and impregnated by her stepfather at age 12. Du...\""
      ]
     },
     "execution_count": 7,
     "metadata": {},
     "output_type": "execute_result"
    }
   ],
   "source": [
    "element = driver.find_element(By.CSS_SELECTOR, '[data-test=\"homepage-news-main-item-content\"]')\n",
    "element.text"
   ]
  },
  {
   "cell_type": "code",
   "execution_count": 8,
   "metadata": {},
   "outputs": [
    {
     "data": {
      "text/plain": [
       "['Ecuador cuts power in half of its provinces amid historic drought',\n",
       " \"Swiss regulator investigating Credit Suisse's final months, report says\",\n",
       " '']"
      ]
     },
     "execution_count": 8,
     "metadata": {},
     "output_type": "execute_result"
    }
   ],
   "source": [
    "elements_texts = get_elements_by_incremental_css_name('[data-test=\"homepage-news-list-item-{}\"]', 1, 3)\n",
    "elements_texts\n"
   ]
  }
 ],
 "metadata": {
  "kernelspec": {
   "display_name": ".venv",
   "language": "python",
   "name": "python3"
  },
  "language_info": {
   "codemirror_mode": {
    "name": "ipython",
    "version": 3
   },
   "file_extension": ".py",
   "mimetype": "text/x-python",
   "name": "python",
   "nbconvert_exporter": "python",
   "pygments_lexer": "ipython3",
   "version": "3.12.1"
  }
 },
 "nbformat": 4,
 "nbformat_minor": 2
}
